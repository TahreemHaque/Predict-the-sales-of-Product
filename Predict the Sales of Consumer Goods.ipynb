{
 "cells": [
  {
   "cell_type": "code",
   "execution_count": 1,
   "metadata": {},
   "outputs": [
    {
     "ename": "ModuleNotFoundError",
     "evalue": "No module named 'eli5'",
     "output_type": "error",
     "traceback": [
      "\u001b[1;31m---------------------------------------------------------------------------\u001b[0m",
      "\u001b[1;31mModuleNotFoundError\u001b[0m                       Traceback (most recent call last)",
      "\u001b[1;32m<ipython-input-1-3ed9691dd531>\u001b[0m in \u001b[0;36m<module>\u001b[1;34m\u001b[0m\n\u001b[0;32m      5\u001b[0m \u001b[1;32mfrom\u001b[0m \u001b[0msklearn\u001b[0m\u001b[1;33m.\u001b[0m\u001b[0mpreprocessing\u001b[0m \u001b[1;32mimport\u001b[0m \u001b[0mLabelEncoder\u001b[0m\u001b[1;33m\u001b[0m\u001b[1;33m\u001b[0m\u001b[0m\n\u001b[0;32m      6\u001b[0m \u001b[1;32mfrom\u001b[0m \u001b[0mlightgbm\u001b[0m \u001b[1;32mimport\u001b[0m \u001b[0mLGBMRegressor\u001b[0m\u001b[1;33m\u001b[0m\u001b[1;33m\u001b[0m\u001b[0m\n\u001b[1;32m----> 7\u001b[1;33m \u001b[1;32mimport\u001b[0m \u001b[0meli5\u001b[0m\u001b[1;33m\u001b[0m\u001b[1;33m\u001b[0m\u001b[0m\n\u001b[0m\u001b[0;32m      8\u001b[0m \u001b[1;32mfrom\u001b[0m \u001b[0meli5\u001b[0m\u001b[1;33m.\u001b[0m\u001b[0msklearn\u001b[0m \u001b[1;32mimport\u001b[0m \u001b[0mPermutationImportance\u001b[0m\u001b[1;33m\u001b[0m\u001b[1;33m\u001b[0m\u001b[0m\n\u001b[0;32m      9\u001b[0m \u001b[1;32mfrom\u001b[0m \u001b[0msklearn\u001b[0m\u001b[1;33m.\u001b[0m\u001b[0mmetrics\u001b[0m \u001b[1;32mimport\u001b[0m \u001b[0mmean_squared_error\u001b[0m\u001b[1;33m\u001b[0m\u001b[1;33m\u001b[0m\u001b[0m\n",
      "\u001b[1;31mModuleNotFoundError\u001b[0m: No module named 'eli5'"
     ]
    }
   ],
   "source": [
    "import warnings\n",
    "warnings.filterwarnings('ignore')\n",
    "import pandas as pd\n",
    "import numpy as np\n",
    "from sklearn.preprocessing import LabelEncoder\n",
    "from lightgbm import LGBMRegressor\n",
    "import eli5\n",
    "from eli5.sklearn import PermutationImportance\n",
    "from sklearn.metrics import mean_squared_error"
   ]
  },
  {
   "cell_type": "code",
   "execution_count": 10,
   "metadata": {},
   "outputs": [],
   "source": [
    "data= pd.read_excel(\"case_study.xlsx\")"
   ]
  },
  {
   "cell_type": "code",
   "execution_count": 11,
   "metadata": {},
   "outputs": [
    {
     "data": {
      "text/plain": [
       "(150, 4)"
      ]
     },
     "execution_count": 11,
     "metadata": {},
     "output_type": "execute_result"
    }
   ],
   "source": [
    "data.shape"
   ]
  },
  {
   "cell_type": "code",
   "execution_count": 12,
   "metadata": {},
   "outputs": [],
   "source": [
    "data['year']= data['ISO_Week'].apply(lambda x:x.split('-')[0])\n",
    "data['week_no']= data['ISO_Week'].apply(lambda x:x.split('-')[1])\n",
    "data['week_no']= data['week_no'].apply(lambda x:int((x)))"
   ]
  },
  {
   "cell_type": "code",
   "execution_count": 13,
   "metadata": {},
   "outputs": [
    {
     "data": {
      "text/html": [
       "<div>\n",
       "<style scoped>\n",
       "    .dataframe tbody tr th:only-of-type {\n",
       "        vertical-align: middle;\n",
       "    }\n",
       "\n",
       "    .dataframe tbody tr th {\n",
       "        vertical-align: top;\n",
       "    }\n",
       "\n",
       "    .dataframe thead th {\n",
       "        text-align: right;\n",
       "    }\n",
       "</style>\n",
       "<table border=\"1\" class=\"dataframe\">\n",
       "  <thead>\n",
       "    <tr style=\"text-align: right;\">\n",
       "      <th></th>\n",
       "      <th>SKU</th>\n",
       "      <th>ISO_Week</th>\n",
       "      <th>Sales</th>\n",
       "      <th>Season</th>\n",
       "      <th>year</th>\n",
       "      <th>week_no</th>\n",
       "    </tr>\n",
       "  </thead>\n",
       "  <tbody>\n",
       "    <tr>\n",
       "      <th>0</th>\n",
       "      <td>ProductA</td>\n",
       "      <td>2018-01</td>\n",
       "      <td>0.0</td>\n",
       "      <td>WINTER</td>\n",
       "      <td>2018</td>\n",
       "      <td>1</td>\n",
       "    </tr>\n",
       "    <tr>\n",
       "      <th>1</th>\n",
       "      <td>ProductA</td>\n",
       "      <td>2018-02</td>\n",
       "      <td>0.0</td>\n",
       "      <td>WINTER</td>\n",
       "      <td>2018</td>\n",
       "      <td>2</td>\n",
       "    </tr>\n",
       "    <tr>\n",
       "      <th>2</th>\n",
       "      <td>ProductA</td>\n",
       "      <td>2018-03</td>\n",
       "      <td>0.0</td>\n",
       "      <td>WINTER</td>\n",
       "      <td>2018</td>\n",
       "      <td>3</td>\n",
       "    </tr>\n",
       "    <tr>\n",
       "      <th>3</th>\n",
       "      <td>ProductA</td>\n",
       "      <td>2018-04</td>\n",
       "      <td>6988.0</td>\n",
       "      <td>WINTER</td>\n",
       "      <td>2018</td>\n",
       "      <td>4</td>\n",
       "    </tr>\n",
       "    <tr>\n",
       "      <th>4</th>\n",
       "      <td>ProductA</td>\n",
       "      <td>2018-04</td>\n",
       "      <td>6988.0</td>\n",
       "      <td>WINTER</td>\n",
       "      <td>2018</td>\n",
       "      <td>4</td>\n",
       "    </tr>\n",
       "    <tr>\n",
       "      <th>...</th>\n",
       "      <td>...</td>\n",
       "      <td>...</td>\n",
       "      <td>...</td>\n",
       "      <td>...</td>\n",
       "      <td>...</td>\n",
       "      <td>...</td>\n",
       "    </tr>\n",
       "    <tr>\n",
       "      <th>145</th>\n",
       "      <td>ProductC</td>\n",
       "      <td>2018-48</td>\n",
       "      <td>12927.0</td>\n",
       "      <td>AUTUMN</td>\n",
       "      <td>2018</td>\n",
       "      <td>48</td>\n",
       "    </tr>\n",
       "    <tr>\n",
       "      <th>146</th>\n",
       "      <td>ProductC</td>\n",
       "      <td>2018-49</td>\n",
       "      <td>11595.0</td>\n",
       "      <td>WINTER</td>\n",
       "      <td>2018</td>\n",
       "      <td>49</td>\n",
       "    </tr>\n",
       "    <tr>\n",
       "      <th>147</th>\n",
       "      <td>ProductC</td>\n",
       "      <td>2018-50</td>\n",
       "      <td>10061.0</td>\n",
       "      <td>WINTER</td>\n",
       "      <td>2018</td>\n",
       "      <td>50</td>\n",
       "    </tr>\n",
       "    <tr>\n",
       "      <th>148</th>\n",
       "      <td>ProductC</td>\n",
       "      <td>2018-51</td>\n",
       "      <td>10859.0</td>\n",
       "      <td>WINTER</td>\n",
       "      <td>2018</td>\n",
       "      <td>51</td>\n",
       "    </tr>\n",
       "    <tr>\n",
       "      <th>149</th>\n",
       "      <td>ProductC</td>\n",
       "      <td>2018-52</td>\n",
       "      <td>13093.0</td>\n",
       "      <td>WINTER</td>\n",
       "      <td>2018</td>\n",
       "      <td>52</td>\n",
       "    </tr>\n",
       "  </tbody>\n",
       "</table>\n",
       "<p>150 rows × 6 columns</p>\n",
       "</div>"
      ],
      "text/plain": [
       "          SKU ISO_Week    Sales  Season  year  week_no\n",
       "0    ProductA  2018-01      0.0  WINTER  2018        1\n",
       "1    ProductA  2018-02      0.0  WINTER  2018        2\n",
       "2    ProductA  2018-03      0.0  WINTER  2018        3\n",
       "3    ProductA  2018-04   6988.0  WINTER  2018        4\n",
       "4    ProductA  2018-04   6988.0  WINTER  2018        4\n",
       "..        ...      ...      ...     ...   ...      ...\n",
       "145  ProductC  2018-48  12927.0  AUTUMN  2018       48\n",
       "146  ProductC  2018-49  11595.0  WINTER  2018       49\n",
       "147  ProductC  2018-50  10061.0  WINTER  2018       50\n",
       "148  ProductC  2018-51  10859.0  WINTER  2018       51\n",
       "149  ProductC  2018-52  13093.0  WINTER  2018       52\n",
       "\n",
       "[150 rows x 6 columns]"
      ]
     },
     "execution_count": 13,
     "metadata": {},
     "output_type": "execute_result"
    }
   ],
   "source": [
    "data"
   ]
  },
  {
   "cell_type": "code",
   "execution_count": 14,
   "metadata": {},
   "outputs": [],
   "source": [
    "train = data.loc[(data['week_no'] >= 1) & (data['week_no'] <= 41)]\n",
    "test = data.loc[(data['week_no'] >= 42) & (data['week_no'] <= 52)]\n",
    "test= test.reset_index(drop=True)"
   ]
  },
  {
   "cell_type": "code",
   "execution_count": 15,
   "metadata": {},
   "outputs": [
    {
     "data": {
      "text/html": [
       "<div>\n",
       "<style scoped>\n",
       "    .dataframe tbody tr th:only-of-type {\n",
       "        vertical-align: middle;\n",
       "    }\n",
       "\n",
       "    .dataframe tbody tr th {\n",
       "        vertical-align: top;\n",
       "    }\n",
       "\n",
       "    .dataframe thead th {\n",
       "        text-align: right;\n",
       "    }\n",
       "</style>\n",
       "<table border=\"1\" class=\"dataframe\">\n",
       "  <thead>\n",
       "    <tr style=\"text-align: right;\">\n",
       "      <th></th>\n",
       "      <th>SKU</th>\n",
       "      <th>ISO_Week</th>\n",
       "      <th>Sales</th>\n",
       "      <th>Season</th>\n",
       "      <th>year</th>\n",
       "      <th>week_no</th>\n",
       "    </tr>\n",
       "  </thead>\n",
       "  <tbody>\n",
       "    <tr>\n",
       "      <th>0</th>\n",
       "      <td>ProductA</td>\n",
       "      <td>2018-01</td>\n",
       "      <td>0.0</td>\n",
       "      <td>WINTER</td>\n",
       "      <td>2018</td>\n",
       "      <td>1</td>\n",
       "    </tr>\n",
       "    <tr>\n",
       "      <th>1</th>\n",
       "      <td>ProductA</td>\n",
       "      <td>2018-02</td>\n",
       "      <td>0.0</td>\n",
       "      <td>WINTER</td>\n",
       "      <td>2018</td>\n",
       "      <td>2</td>\n",
       "    </tr>\n",
       "    <tr>\n",
       "      <th>2</th>\n",
       "      <td>ProductA</td>\n",
       "      <td>2018-03</td>\n",
       "      <td>0.0</td>\n",
       "      <td>WINTER</td>\n",
       "      <td>2018</td>\n",
       "      <td>3</td>\n",
       "    </tr>\n",
       "    <tr>\n",
       "      <th>3</th>\n",
       "      <td>ProductA</td>\n",
       "      <td>2018-04</td>\n",
       "      <td>6988.0</td>\n",
       "      <td>WINTER</td>\n",
       "      <td>2018</td>\n",
       "      <td>4</td>\n",
       "    </tr>\n",
       "    <tr>\n",
       "      <th>4</th>\n",
       "      <td>ProductA</td>\n",
       "      <td>2018-04</td>\n",
       "      <td>6988.0</td>\n",
       "      <td>WINTER</td>\n",
       "      <td>2018</td>\n",
       "      <td>4</td>\n",
       "    </tr>\n",
       "    <tr>\n",
       "      <th>...</th>\n",
       "      <td>...</td>\n",
       "      <td>...</td>\n",
       "      <td>...</td>\n",
       "      <td>...</td>\n",
       "      <td>...</td>\n",
       "      <td>...</td>\n",
       "    </tr>\n",
       "    <tr>\n",
       "      <th>134</th>\n",
       "      <td>ProductC</td>\n",
       "      <td>2018-37</td>\n",
       "      <td>11856.0</td>\n",
       "      <td>AUTUMN</td>\n",
       "      <td>2018</td>\n",
       "      <td>37</td>\n",
       "    </tr>\n",
       "    <tr>\n",
       "      <th>135</th>\n",
       "      <td>ProductC</td>\n",
       "      <td>2018-38</td>\n",
       "      <td>4185.0</td>\n",
       "      <td>AUTUMN</td>\n",
       "      <td>2018</td>\n",
       "      <td>38</td>\n",
       "    </tr>\n",
       "    <tr>\n",
       "      <th>136</th>\n",
       "      <td>ProductC</td>\n",
       "      <td>2018-39</td>\n",
       "      <td>4357.0</td>\n",
       "      <td>AUTUMN</td>\n",
       "      <td>2018</td>\n",
       "      <td>39</td>\n",
       "    </tr>\n",
       "    <tr>\n",
       "      <th>137</th>\n",
       "      <td>ProductC</td>\n",
       "      <td>2018-40</td>\n",
       "      <td>3730.0</td>\n",
       "      <td>AUTUMN</td>\n",
       "      <td>2018</td>\n",
       "      <td>40</td>\n",
       "    </tr>\n",
       "    <tr>\n",
       "      <th>138</th>\n",
       "      <td>ProductC</td>\n",
       "      <td>2018-41</td>\n",
       "      <td>3158.0</td>\n",
       "      <td>AUTUMN</td>\n",
       "      <td>2018</td>\n",
       "      <td>41</td>\n",
       "    </tr>\n",
       "  </tbody>\n",
       "</table>\n",
       "<p>117 rows × 6 columns</p>\n",
       "</div>"
      ],
      "text/plain": [
       "          SKU ISO_Week    Sales  Season  year  week_no\n",
       "0    ProductA  2018-01      0.0  WINTER  2018        1\n",
       "1    ProductA  2018-02      0.0  WINTER  2018        2\n",
       "2    ProductA  2018-03      0.0  WINTER  2018        3\n",
       "3    ProductA  2018-04   6988.0  WINTER  2018        4\n",
       "4    ProductA  2018-04   6988.0  WINTER  2018        4\n",
       "..        ...      ...      ...     ...   ...      ...\n",
       "134  ProductC  2018-37  11856.0  AUTUMN  2018       37\n",
       "135  ProductC  2018-38   4185.0  AUTUMN  2018       38\n",
       "136  ProductC  2018-39   4357.0  AUTUMN  2018       39\n",
       "137  ProductC  2018-40   3730.0  AUTUMN  2018       40\n",
       "138  ProductC  2018-41   3158.0  AUTUMN  2018       41\n",
       "\n",
       "[117 rows x 6 columns]"
      ]
     },
     "execution_count": 15,
     "metadata": {},
     "output_type": "execute_result"
    }
   ],
   "source": [
    "train"
   ]
  },
  {
   "cell_type": "code",
   "execution_count": 16,
   "metadata": {},
   "outputs": [
    {
     "name": "stdout",
     "output_type": "stream",
     "text": [
      "(100, 6)\n",
      "(92, 6)\n"
     ]
    }
   ],
   "source": [
    "#Preprocessing\n",
    "train= train.loc[(train['Sales'] != 0.0)]\n",
    "train= train.reset_index(drop=True)\n",
    "print(train.shape)\n",
    "train.drop_duplicates(keep=False,inplace=True)\n",
    "print(train.shape)\n",
    "train=train.reset_index(drop=True)"
   ]
  },
  {
   "cell_type": "code",
   "execution_count": 17,
   "metadata": {},
   "outputs": [
    {
     "data": {
      "text/html": [
       "<div>\n",
       "<style scoped>\n",
       "    .dataframe tbody tr th:only-of-type {\n",
       "        vertical-align: middle;\n",
       "    }\n",
       "\n",
       "    .dataframe tbody tr th {\n",
       "        vertical-align: top;\n",
       "    }\n",
       "\n",
       "    .dataframe thead th {\n",
       "        text-align: right;\n",
       "    }\n",
       "</style>\n",
       "<table border=\"1\" class=\"dataframe\">\n",
       "  <thead>\n",
       "    <tr style=\"text-align: right;\">\n",
       "      <th></th>\n",
       "      <th>SKU</th>\n",
       "      <th>ISO_Week</th>\n",
       "      <th>Sales</th>\n",
       "      <th>Season</th>\n",
       "      <th>year</th>\n",
       "      <th>week_no</th>\n",
       "    </tr>\n",
       "  </thead>\n",
       "  <tbody>\n",
       "    <tr>\n",
       "      <th>0</th>\n",
       "      <td>ProductA</td>\n",
       "      <td>2018-05</td>\n",
       "      <td>6743.0</td>\n",
       "      <td>WINTER</td>\n",
       "      <td>2018</td>\n",
       "      <td>5</td>\n",
       "    </tr>\n",
       "    <tr>\n",
       "      <th>1</th>\n",
       "      <td>ProductA</td>\n",
       "      <td>2018-06</td>\n",
       "      <td>4112.0</td>\n",
       "      <td>WINTER</td>\n",
       "      <td>2018</td>\n",
       "      <td>6</td>\n",
       "    </tr>\n",
       "    <tr>\n",
       "      <th>2</th>\n",
       "      <td>ProductA</td>\n",
       "      <td>2018-07</td>\n",
       "      <td>5732.0</td>\n",
       "      <td>WINTER</td>\n",
       "      <td>2018</td>\n",
       "      <td>7</td>\n",
       "    </tr>\n",
       "    <tr>\n",
       "      <th>3</th>\n",
       "      <td>ProductA</td>\n",
       "      <td>2018-08</td>\n",
       "      <td>NaN</td>\n",
       "      <td>WINTER</td>\n",
       "      <td>2018</td>\n",
       "      <td>8</td>\n",
       "    </tr>\n",
       "    <tr>\n",
       "      <th>4</th>\n",
       "      <td>ProductA</td>\n",
       "      <td>2018-09</td>\n",
       "      <td>5559.0</td>\n",
       "      <td>SPRING</td>\n",
       "      <td>2018</td>\n",
       "      <td>9</td>\n",
       "    </tr>\n",
       "  </tbody>\n",
       "</table>\n",
       "</div>"
      ],
      "text/plain": [
       "        SKU ISO_Week   Sales  Season  year  week_no\n",
       "0  ProductA  2018-05  6743.0  WINTER  2018        5\n",
       "1  ProductA  2018-06  4112.0  WINTER  2018        6\n",
       "2  ProductA  2018-07  5732.0  WINTER  2018        7\n",
       "3  ProductA  2018-08     NaN  WINTER  2018        8\n",
       "4  ProductA  2018-09  5559.0  SPRING  2018        9"
      ]
     },
     "execution_count": 17,
     "metadata": {},
     "output_type": "execute_result"
    }
   ],
   "source": [
    "train.head(5)"
   ]
  },
  {
   "cell_type": "code",
   "execution_count": 18,
   "metadata": {},
   "outputs": [
    {
     "data": {
      "text/html": [
       "<div>\n",
       "<style scoped>\n",
       "    .dataframe tbody tr th:only-of-type {\n",
       "        vertical-align: middle;\n",
       "    }\n",
       "\n",
       "    .dataframe tbody tr th {\n",
       "        vertical-align: top;\n",
       "    }\n",
       "\n",
       "    .dataframe thead th {\n",
       "        text-align: right;\n",
       "    }\n",
       "</style>\n",
       "<table border=\"1\" class=\"dataframe\">\n",
       "  <thead>\n",
       "    <tr style=\"text-align: right;\">\n",
       "      <th></th>\n",
       "      <th>SKU</th>\n",
       "      <th>ISO_Week</th>\n",
       "      <th>Sales</th>\n",
       "      <th>Season</th>\n",
       "      <th>year</th>\n",
       "      <th>week_no</th>\n",
       "    </tr>\n",
       "  </thead>\n",
       "  <tbody>\n",
       "    <tr>\n",
       "      <th>0</th>\n",
       "      <td>ProductA</td>\n",
       "      <td>2018-05</td>\n",
       "      <td>6743.00000</td>\n",
       "      <td>WINTER</td>\n",
       "      <td>2018</td>\n",
       "      <td>5</td>\n",
       "    </tr>\n",
       "    <tr>\n",
       "      <th>1</th>\n",
       "      <td>ProductA</td>\n",
       "      <td>2018-06</td>\n",
       "      <td>4112.00000</td>\n",
       "      <td>WINTER</td>\n",
       "      <td>2018</td>\n",
       "      <td>6</td>\n",
       "    </tr>\n",
       "    <tr>\n",
       "      <th>2</th>\n",
       "      <td>ProductA</td>\n",
       "      <td>2018-07</td>\n",
       "      <td>5732.00000</td>\n",
       "      <td>WINTER</td>\n",
       "      <td>2018</td>\n",
       "      <td>7</td>\n",
       "    </tr>\n",
       "    <tr>\n",
       "      <th>3</th>\n",
       "      <td>ProductA</td>\n",
       "      <td>2018-08</td>\n",
       "      <td>6898.84375</td>\n",
       "      <td>WINTER</td>\n",
       "      <td>2018</td>\n",
       "      <td>8</td>\n",
       "    </tr>\n",
       "    <tr>\n",
       "      <th>4</th>\n",
       "      <td>ProductA</td>\n",
       "      <td>2018-09</td>\n",
       "      <td>5559.00000</td>\n",
       "      <td>SPRING</td>\n",
       "      <td>2018</td>\n",
       "      <td>9</td>\n",
       "    </tr>\n",
       "  </tbody>\n",
       "</table>\n",
       "</div>"
      ],
      "text/plain": [
       "        SKU ISO_Week       Sales  Season  year  week_no\n",
       "0  ProductA  2018-05  6743.00000  WINTER  2018        5\n",
       "1  ProductA  2018-06  4112.00000  WINTER  2018        6\n",
       "2  ProductA  2018-07  5732.00000  WINTER  2018        7\n",
       "3  ProductA  2018-08  6898.84375  WINTER  2018        8\n",
       "4  ProductA  2018-09  5559.00000  SPRING  2018        9"
      ]
     },
     "execution_count": 18,
     "metadata": {},
     "output_type": "execute_result"
    }
   ],
   "source": [
    "train['Sales'].fillna(train.groupby(['SKU'])['Sales'].transform('mean'),inplace=True)\n",
    "train.head(5)"
   ]
  },
  {
   "cell_type": "code",
   "execution_count": 20,
   "metadata": {},
   "outputs": [],
   "source": [
    "# le = LabelEncoder()\n",
    "# train['Season']=  train['Season'].astype('str')\n",
    "# train['Season']= le.fit_transform(train['Season'])\n",
    "#Frequency Encoding\n",
    "combine_set=pd.concat([train,test])\n",
    "combine_set['SKU']=combine_set['SKU'].map({'ProductA':1,'ProductB':2,'ProductC':3})\n",
    "#Frequency Encoding\n",
    "fe=combine_set.groupby(['Season']).size()/len(combine_set)\n",
    "combine_set['Season']=combine_set['Season'].apply(lambda x: fe[x])\n",
    "combine_set['Number_of_times_product_sold']=combine_set.groupby(['SKU','Season'])['Season'].transform('count')\n",
    "combine_set['Average_times_product_sold_during_season']=combine_set.groupby(['SKU','Season'])['Season'].transform('mean')\n"
   ]
  },
  {
   "cell_type": "code",
   "execution_count": 21,
   "metadata": {},
   "outputs": [
    {
     "data": {
      "text/plain": [
       "52524.0"
      ]
     },
     "execution_count": 21,
     "metadata": {},
     "output_type": "execute_result"
    }
   ],
   "source": [
    "combine_set['Sales'].max()"
   ]
  },
  {
   "cell_type": "code",
   "execution_count": 24,
   "metadata": {},
   "outputs": [
    {
     "data": {
      "text/plain": [
       "array([8.8164085])"
      ]
     },
     "execution_count": 24,
     "metadata": {},
     "output_type": "execute_result"
    }
   ],
   "source": [
    "np.log1p([6743])"
   ]
  },
  {
   "cell_type": "code",
   "execution_count": 25,
   "metadata": {},
   "outputs": [],
   "source": [
    "combine_set['New_Sales']=np.log1p(combine_set['Sales']+164)\n",
    "combine_set['New_Sales_2']=np.log1p(combine_set['Sales'])"
   ]
  },
  {
   "cell_type": "code",
   "execution_count": 26,
   "metadata": {},
   "outputs": [
    {
     "data": {
      "text/html": [
       "<div>\n",
       "<style scoped>\n",
       "    .dataframe tbody tr th:only-of-type {\n",
       "        vertical-align: middle;\n",
       "    }\n",
       "\n",
       "    .dataframe tbody tr th {\n",
       "        vertical-align: top;\n",
       "    }\n",
       "\n",
       "    .dataframe thead th {\n",
       "        text-align: right;\n",
       "    }\n",
       "</style>\n",
       "<table border=\"1\" class=\"dataframe\">\n",
       "  <thead>\n",
       "    <tr style=\"text-align: right;\">\n",
       "      <th></th>\n",
       "      <th>Sales</th>\n",
       "      <th>New_Sales</th>\n",
       "      <th>New_Sales_2</th>\n",
       "    </tr>\n",
       "  </thead>\n",
       "  <tbody>\n",
       "    <tr>\n",
       "      <th>0</th>\n",
       "      <td>6743.00000</td>\n",
       "      <td>8.840435</td>\n",
       "      <td>8.816408</td>\n",
       "    </tr>\n",
       "    <tr>\n",
       "      <th>1</th>\n",
       "      <td>4112.00000</td>\n",
       "      <td>8.361007</td>\n",
       "      <td>8.321908</td>\n",
       "    </tr>\n",
       "    <tr>\n",
       "      <th>2</th>\n",
       "      <td>5732.00000</td>\n",
       "      <td>8.682199</td>\n",
       "      <td>8.653994</td>\n",
       "    </tr>\n",
       "    <tr>\n",
       "      <th>3</th>\n",
       "      <td>6898.84375</td>\n",
       "      <td>8.862745</td>\n",
       "      <td>8.839254</td>\n",
       "    </tr>\n",
       "    <tr>\n",
       "      <th>4</th>\n",
       "      <td>5559.00000</td>\n",
       "      <td>8.652423</td>\n",
       "      <td>8.623353</td>\n",
       "    </tr>\n",
       "    <tr>\n",
       "      <th>...</th>\n",
       "      <td>...</td>\n",
       "      <td>...</td>\n",
       "      <td>...</td>\n",
       "    </tr>\n",
       "    <tr>\n",
       "      <th>28</th>\n",
       "      <td>12927.00000</td>\n",
       "      <td>9.479757</td>\n",
       "      <td>9.467151</td>\n",
       "    </tr>\n",
       "    <tr>\n",
       "      <th>29</th>\n",
       "      <td>11595.00000</td>\n",
       "      <td>9.372459</td>\n",
       "      <td>9.358415</td>\n",
       "    </tr>\n",
       "    <tr>\n",
       "      <th>30</th>\n",
       "      <td>10061.00000</td>\n",
       "      <td>9.232689</td>\n",
       "      <td>9.216521</td>\n",
       "    </tr>\n",
       "    <tr>\n",
       "      <th>31</th>\n",
       "      <td>10859.00000</td>\n",
       "      <td>9.307830</td>\n",
       "      <td>9.292842</td>\n",
       "    </tr>\n",
       "    <tr>\n",
       "      <th>32</th>\n",
       "      <td>13093.00000</td>\n",
       "      <td>9.492356</td>\n",
       "      <td>9.479909</td>\n",
       "    </tr>\n",
       "  </tbody>\n",
       "</table>\n",
       "<p>125 rows × 3 columns</p>\n",
       "</div>"
      ],
      "text/plain": [
       "          Sales  New_Sales  New_Sales_2\n",
       "0    6743.00000   8.840435     8.816408\n",
       "1    4112.00000   8.361007     8.321908\n",
       "2    5732.00000   8.682199     8.653994\n",
       "3    6898.84375   8.862745     8.839254\n",
       "4    5559.00000   8.652423     8.623353\n",
       "..          ...        ...          ...\n",
       "28  12927.00000   9.479757     9.467151\n",
       "29  11595.00000   9.372459     9.358415\n",
       "30  10061.00000   9.232689     9.216521\n",
       "31  10859.00000   9.307830     9.292842\n",
       "32  13093.00000   9.492356     9.479909\n",
       "\n",
       "[125 rows x 3 columns]"
      ]
     },
     "execution_count": 26,
     "metadata": {},
     "output_type": "execute_result"
    }
   ],
   "source": [
    "combine_set[['Sales','New_Sales','New_Sales_2']]"
   ]
  },
  {
   "cell_type": "code",
   "execution_count": null,
   "metadata": {},
   "outputs": [],
   "source": [
    "combine_set['year']=combine_set['year'].astype('int64')\n",
    "train=combine_set[combine_set['week_no']<42]\n",
    "test=combine_set[combine_set['week_no']>=42]\n",
    "X=train.drop(['ISO_Week','Sales'],axis=1)\n",
    "y=train['Sales']\n",
    "\n",
    "X_main_test=test.drop(['ISO_Week','Sales'],axis=1)\n",
    "y_val=test['Sales']"
   ]
  },
  {
   "cell_type": "code",
   "execution_count": null,
   "metadata": {},
   "outputs": [],
   "source": [
    "combine_set.head(5)"
   ]
  },
  {
   "cell_type": "code",
   "execution_count": null,
   "metadata": {},
   "outputs": [],
   "source": [
    "m = LGBMRegressor(boosting_type='gbdt',n_estimators=1000, \n",
    "                  num_leaves=3, \n",
    "                  max_depth=4,\n",
    "                  min_child_samples=2,\n",
    "                  learning_rate=0.04,\n",
    "                  colsample_bytree=0.8,\n",
    "                  reg_alpha=2,\n",
    "                  reg_lambda=2)\n",
    "m.fit(X, y)"
   ]
  },
  {
   "cell_type": "code",
   "execution_count": null,
   "metadata": {},
   "outputs": [],
   "source": [
    "pred = m.predict(X_main_test)\n",
    "print(np.sqrt(mean_squared_error(y_val,pred)))\n"
   ]
  },
  {
   "cell_type": "code",
   "execution_count": null,
   "metadata": {},
   "outputs": [],
   "source": [
    "#Weight Correction for better RMSE\n",
    "print(\"weight correction\")\n",
    "W=[(0.990+(i/1000)) for i in range(100)]\n",
    "S =[]\n",
    "for w in W:\n",
    "    error = np.sqrt(mean_squared_error(y_val, pred*w))\n",
    "    print('RMSE for {:.3f}:{:.6f}'.format(w,error))\n",
    "    S.append(error)\n",
    "Score = pd.DataFrame(S,index=W)\n",
    "\n",
    "BS = Score[Score.values == Score.values.min()]\n",
    "print ('Best weight for Score:{}'.format(BS))"
   ]
  },
  {
   "cell_type": "code",
   "execution_count": null,
   "metadata": {},
   "outputs": [],
   "source": [
    "#Final file \n",
    "d=pd.DataFrame()\n",
    "d['SKU']=test['SKU'].map({1:'ProductA',2:'ProductB',3:'ProductC'})\n",
    "d['ISO_Week']=test['ISO_Week']\n",
    "d['Forecast']=pd.DataFrame(np.expm1(pred*BS.index.values)-164)\n",
    "d.to_excel('C:/Users/Tahreem Haque/Downloads/main_test.xlsx',index=False)\n",
    "d.head(5)"
   ]
  },
  {
   "cell_type": "code",
   "execution_count": null,
   "metadata": {},
   "outputs": [],
   "source": [
    "# tra_a= train_final_2[train_final_2['SKU']=='ProductA'].reset_index(drop=True)"
   ]
  },
  {
   "cell_type": "code",
   "execution_count": null,
   "metadata": {},
   "outputs": [],
   "source": [
    "# df= tra_a[['Sales','week_no']]"
   ]
  },
  {
   "cell_type": "code",
   "execution_count": null,
   "metadata": {},
   "outputs": [],
   "source": [
    "# ax = df.plot(figsize=(14,6), lw=2, style='k-')\n"
   ]
  },
  {
   "cell_type": "code",
   "execution_count": null,
   "metadata": {},
   "outputs": [],
   "source": []
  },
  {
   "cell_type": "code",
   "execution_count": null,
   "metadata": {},
   "outputs": [],
   "source": [
    "# import matplotlib.pyplot as plt\n"
   ]
  },
  {
   "cell_type": "code",
   "execution_count": null,
   "metadata": {},
   "outputs": [],
   "source": [
    "# plt.hist(train_final_2['Sales'], bins = 20, color = 'pink')\n",
    "# plt.title('Target Variable')\n",
    "# plt.xlabel('ItemSales')\n",
    "# plt.ylabel('count')\n",
    "# plt.show()"
   ]
  },
  {
   "cell_type": "code",
   "execution_count": null,
   "metadata": {},
   "outputs": [],
   "source": [
    "# x = range(len(train_final_2['Sales']))\n",
    "# plt.plot(x, train_final_2['Sales'])\n",
    "# plt.xticks(x, zip(train_final_2['year'], train_final_2['week_no']))"
   ]
  },
  {
   "cell_type": "code",
   "execution_count": null,
   "metadata": {},
   "outputs": [],
   "source": [
    "pred"
   ]
  }
 ],
 "metadata": {
  "kernelspec": {
   "display_name": "Python 3",
   "language": "python",
   "name": "python3"
  },
  "language_info": {
   "codemirror_mode": {
    "name": "ipython",
    "version": 3
   },
   "file_extension": ".py",
   "mimetype": "text/x-python",
   "name": "python",
   "nbconvert_exporter": "python",
   "pygments_lexer": "ipython3",
   "version": "3.8.5"
  }
 },
 "nbformat": 4,
 "nbformat_minor": 2
}
